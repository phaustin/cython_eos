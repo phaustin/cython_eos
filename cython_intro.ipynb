{
 "metadata": {
  "name": "",
  "signature": "sha256:71bbd6cc2fec34b3b8c03567c3396e3718c073bd2cea9008e72bf16d7c3fe47d"
 },
 "nbformat": 3,
 "nbformat_minor": 0,
 "worksheets": [
  {
   "cells": [
    {
     "cell_type": "markdown",
     "metadata": {},
     "source": [
      "## Introduction"
     ]
    },
    {
     "cell_type": "markdown",
     "metadata": {},
     "source": [
      "### Why use cython?\n",
      "\n",
      "1) Your code is running slow enough that it's becoming an issue in your workflow.  You\n",
      "[profile it](http://scipy-lectures.github.io/advanced/optimizing/#timeit) and see that\n",
      "there are [bottlenecks](https://github.com/kwgoodman/bottleneck) that could be reduced\n",
      "if they were rewritten in a statically typed language.\n",
      "\n",
      "2) You need to call functions written in another language that exposes a C or C++ inteface.\n",
      "Example: access to individual bits using [bitset](http://www.cplusplus.com/reference/bitset/bitset).\n",
      "If the language is fortran, see [fortran90.org](http://www.fortran90.org/src/best-practices.html#interfacing-with-python)"
     ]
    },
    {
     "cell_type": "markdown",
     "metadata": {},
     "source": [
      "### Why avoid cython?\n",
      "\n",
      "Leaving the comfort of python for compiled languages means learning and maintaining a second codebase, hassling with\n",
      "[build systems](http://www.cmake.org/cmake-tutorial/), compilers, etc.\n",
      "\n",
      "Distributing your code to others means learning about [conda recipes](https://github.com/conda/conda-recip),\n",
      "[python packaging](https://packaging.python.org/en/latest/) etc.\n"
     ]
    },
    {
     "cell_type": "markdown",
     "metadata": {},
     "source": [
      "### Cython alternatives"
     ]
    },
    {
     "cell_type": "markdown",
     "metadata": {},
     "source": [
      "**For speed:**\n",
      "\n",
      "  1) [numba](https://jakevdp.github.io/blog/2013/06/15/numba-vs-cython-take-2/) \n",
      "\n",
      "  2) [julia](http://tullo.ch/articles/python-vs-julia/) with [pyjulia](https://github.com/JuliaLang/pyjulia)\n",
      "\n",
      "**For accessing C functions:**\n",
      " \n",
      "   [ctypes](https://scipy-lectures.github.io/advanced/interfacing_with_c/interfacing_with_c.html)\n",
      "\n"
     ]
    },
    {
     "cell_type": "markdown",
     "metadata": {},
     "source": [
      "## This talk"
     ]
    },
    {
     "cell_type": "markdown",
     "metadata": {},
     "source": [
      "Take a common task:  binning a 2D histogram and see if we can speed it up.\n",
      "\n",
      "To get the source:  \n",
      "\n",
      "```\n",
      "test\n",
      "```"
     ]
    },
    {
     "cell_type": "code",
     "collapsed": false,
     "input": [],
     "language": "python",
     "metadata": {},
     "outputs": []
    }
   ],
   "metadata": {}
  }
 ]
}