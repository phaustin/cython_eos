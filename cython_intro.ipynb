{
 "metadata": {
  "name": "",
  "signature": "sha256:af8c6120bdd3a6a0017d0580500bb9163ef008360b7c5497d41fe41c83e60b85"
 },
 "nbformat": 3,
 "nbformat_minor": 0,
 "worksheets": [
  {
   "cells": [
    {
     "cell_type": "markdown",
     "metadata": {},
     "source": [
      "## Introduction"
     ]
    },
    {
     "cell_type": "markdown",
     "metadata": {},
     "source": [
      "(this notebook is on github -- see http://nbviewer.ipython.org/github/phaustin/cython_eos/blob/master/cython_intro.ipynb "
     ]
    },
    {
     "cell_type": "markdown",
     "metadata": {},
     "source": [
      "### Why use cython?\n",
      "\n",
      "1) Your code is running slow enough that it's becoming an issue in your workflow.  You\n",
      "[profile it](http://scipy-lectures.github.io/advanced/optimizing/#timeit) and see that\n",
      "there are [bottlenecks](https://github.com/kwgoodman/bottleneck) that could be reduced\n",
      "if they were rewritten in a statically typed language.\n",
      "\n",
      "2) You need to call functions written in another language that exposes a C or C++ inteface.\n",
      "Example: access to individual bits using [bitset](http://www.cplusplus.com/reference/bitset/bitset).\n",
      "If the language is fortran, see [fortran90.org](http://www.fortran90.org/src/best-practices.html#interfacing-with-python)"
     ]
    },
    {
     "cell_type": "markdown",
     "metadata": {},
     "source": [
      "### Why avoid cython?\n",
      "\n",
      "Leaving the comfort of python for compiled languages means learning and maintaining a second codebase, hassling with\n",
      "[build systems](http://www.cmake.org/cmake-tutorial/), compilers, etc.\n",
      "\n",
      "Distributing your code to others means learning about [conda recipes](https://github.com/conda/conda-recip),\n",
      "[python packaging](https://packaging.python.org/en/latest/) etc.\n"
     ]
    },
    {
     "cell_type": "markdown",
     "metadata": {},
     "source": [
      "### Cython alternatives"
     ]
    },
    {
     "cell_type": "markdown",
     "metadata": {},
     "source": [
      "**For speed:**\n",
      "\n",
      "  1) [numba](https://jakevdp.github.io/blog/2013/06/15/numba-vs-cython-take-2/) \n",
      "\n",
      "  2) [julia](http://tullo.ch/articles/python-vs-julia/) with [pyjulia](https://github.com/JuliaLang/pyjulia)\n",
      "\n",
      "**For accessing C functions:**\n",
      " \n",
      "   [ctypes](https://scipy-lectures.github.io/advanced/interfacing_with_c/interfacing_with_c.html)\n",
      "\n"
     ]
    },
    {
     "cell_type": "markdown",
     "metadata": {},
     "source": [
      "## This talk"
     ]
    },
    {
     "cell_type": "markdown",
     "metadata": {},
     "source": [
      "Take a common task:  binning a 2D histogram and see if we can speed it up.\n",
      "\n",
      "To get the source:  \n",
      "\n",
      "```\n",
      "git clone https://github.com/phaustin/cython_eos.git\n",
      "```"
     ]
    },
    {
     "cell_type": "markdown",
     "metadata": {},
     "source": [
      "To get the data:  download from \n",
      "http://clouds.eos.ubc.ca/~phil/Downloads/a301/A2006303_subset.h5\n",
      "or use [fetchurl](https://github.com/phaustin/cython_eos/blob/83fb7cf22428d4e3a5ae26b085b3b16e652899c5/satellite_plot.py#L18-L25):"
     ]
    },
    {
     "cell_type": "code",
     "collapsed": true,
     "input": [
      "import site\n",
      "site.addsitedir('cython')\n",
      "import satellite_plot\n",
      "status=reload(satellite_plot)"
     ],
     "language": "python",
     "metadata": {},
     "outputs": [],
     "prompt_number": ""
    },
    {
     "cell_type": "code",
     "collapsed": true,
     "input": [
      "import requests\n",
      "from satellite_plot import fetchurl\n",
      "get_data=False\n",
      "fileurl='http://clouds.eos.ubc.ca/~phil/Downloads/a301/A2006303_subset.h5'\n",
      "if get_data:\n",
      "    fetchurl(fileurl,'data.h5')\n"
     ],
     "language": "python",
     "metadata": {},
     "outputs": [],
     "prompt_number": ""
    },
    {
     "cell_type": "markdown",
     "metadata": {},
     "source": [
      "This is a 5 minute granule from MODIS/Aqua Level1B subsetted with\n",
      "the calibrated channel1 reflectivities and channel 31 radiances\n",
      "and the 1 km lats and lons from the MYD03 geometry file\n",
      "\n",
      "```\n",
      "~/repos/cython_eos phil@rail% h5ls -r -f data.h5\n",
      "/                        Group\n",
      "/channel1                Dataset {2030, 1354}\n",
      "/channel31               Dataset {2030, 1354}\n",
      "/lattitude               Dataset {2030, 1354}\n",
      "/longitude               Dataset {2030, 1354}\n",
      "```"
     ]
    },
    {
     "cell_type": "markdown",
     "metadata": {},
     "source": [
      "Read in the data -- note that it's important to close the hdf file immediately after\n",
      "reading.  Leaving it open causes obscure read errors when you rerun the cell.  The\n",
      "python idiom for closing a file is to use a *with* context:"
     ]
    },
    {
     "cell_type": "code",
     "collapsed": true,
     "input": [
      "import h5py\n",
      "maxdim=200\n",
      "xslice=slice(0,maxdim)\n",
      "yslice=slice(0,maxdim)\n",
      "subset='data.h5'\n",
      "with h5py.File(subset) as h5_file:\n",
      "    chan1=h5_file['channel1'][xslice,yslice]\n",
      "    chan31=h5_file['channel31'][xslice,yslice]\n",
      "    lats=h5_file['lattitude'][xslice,yslice]\n",
      "    lons=h5_file['longitude'][xslice,yslice]"
     ],
     "language": "python",
     "metadata": {},
     "outputs": [],
     "prompt_number": ""
    },
    {
     "cell_type": "code",
     "collapsed": false,
     "input": [
      "import matplotlib.pyplot as plt"
     ],
     "language": "python",
     "metadata": {},
     "outputs": [],
     "prompt_number": ""
    },
    {
     "cell_type": "code",
     "collapsed": true,
     "input": [
      "%matplotlib inline"
     ],
     "language": "python",
     "metadata": {},
     "outputs": [],
     "prompt_number": ""
    },
    {
     "cell_type": "code",
     "collapsed": true,
     "input": [
      "fig,ax=plt.subplots(1,1)\n",
      "the_image=ax.pcolormesh(chan31)\n",
      "cb=fig.colorbar(the_image)"
     ],
     "language": "python",
     "metadata": {},
     "outputs": [],
     "prompt_number": ""
    },
    {
     "cell_type": "markdown",
     "metadata": {},
     "source": [
      "Note that image is flipped up/down and left/right"
     ]
    },
    {
     "cell_type": "code",
     "collapsed": true,
     "input": [
      "fig,ax=plt.subplots(1,1)\n",
      "the_image=ax.pcolormesh(lats)\n",
      "cb=fig.colorbar(the_image)"
     ],
     "language": "python",
     "metadata": {},
     "outputs": [],
     "prompt_number": ""
    },
    {
     "cell_type": "code",
     "collapsed": false,
     "input": [
      "fig,ax=plt.subplots(1,1)\n",
      "the_image=ax.pcolormesh(lons)\n",
      "cb=fig.colorbar(the_image)"
     ],
     "language": "python",
     "metadata": {},
     "outputs": [],
     "prompt_number": ""
    },
    {
     "cell_type": "markdown",
     "metadata": {},
     "source": [
      "If you plot the individual lat/lons, you'll also see that spacing varys from 1 km to 4 km, 10th and\n",
      "first row overlap each other."
     ]
    },
    {
     "cell_type": "markdown",
     "metadata": {},
     "source": [
      "Need to bin the radiance using lat/lon values to get a uniform lat/lon grid.\n",
      "Use [reproj_slow](https://github.com/phaustin/cython_eos/blob/83fb7cf22428d4e3a5ae26b085b3b16e652899c5/satellite_plot.py#L41-L64) to do this."
     ]
    },
    {
     "cell_type": "code",
     "collapsed": false,
     "input": [
      "from satellite_plot import reproj_slow\n",
      "import numpy as np"
     ],
     "language": "python",
     "metadata": {},
     "outputs": [],
     "prompt_number": ""
    },
    {
     "cell_type": "code",
     "collapsed": false,
     "input": [
      "xlim=[np.min(lons), np.max(lons)]\n",
      "ylim=[np.min(lats), np.max(lats)]\n",
      "res=0.05  #bin width in degrees\n",
      "c31_grid, longitude, latitude, bin_count = reproj_slow(chan31, lons, lats, xlim, ylim, res)\n"
     ],
     "language": "python",
     "metadata": {},
     "outputs": [],
     "prompt_number": ""
    },
    {
     "cell_type": "code",
     "collapsed": false,
     "input": [
      "fig,ax=plt.subplots(1,1)\n",
      "c31_mask=np.ma.masked_where(np.isnan(c31_grid), c31_grid)\n",
      "the_image=ax.pcolormesh(c31_mask)\n",
      "cb=fig.colorbar(the_image)"
     ],
     "language": "python",
     "metadata": {},
     "outputs": [],
     "prompt_number": ""
    },
    {
     "cell_type": "code",
     "collapsed": false,
     "input": [
      "from mpl_toolkits.basemap import Basemap\n",
      "fig,ax=plt.subplots(1,1,figsize=(6,6))\n",
      "lcc_values=dict(resolution='l',projection='lcc',\n",
      "                lat_1=30,lat_2=50,lat_0=45,lon_0=-135,\n",
      "                llcrnrlon=-150,llcrnrlat=30,\n",
      "                urcrnrlon=-120,urcrnrlat=50,ax=ax)\n",
      "proj=Basemap(**lcc_values)\n",
      "# create figure, add axes\n",
      "## define parallels and meridians to draw.\n",
      "parallels=np.arange(-90, 90, 5)\n",
      "meridians=np.arange(0, 360, 5)\n",
      "proj.drawparallels(parallels, labels=[1, 0, 0, 0],fontsize=10, latmax=90)\n",
      "proj.drawmeridians(meridians, labels=[0, 0, 0, 1],fontsize=10, latmax=90)\n",
      "# draw coast & fill continents\n",
      "#map.fillcontinents(color=[0.25, 0.25, 0.25], lake_color=None) # coral\n",
      "out=proj.drawcoastlines(linewidth=1.5, linestyle='solid', color='k')\n",
      "x, y=proj(longitude, latitude)\n",
      "CS=proj.pcolor(x, y, c31_grid, cmap=plt.cm.jet)"
     ],
     "language": "python",
     "metadata": {},
     "outputs": [],
     "prompt_number": ""
    },
    {
     "cell_type": "markdown",
     "metadata": {},
     "source": [
      "Can we speed this up?  Try rewriting reproj_slow in cython\n",
      "Get [reproj_fast](https://github.com/phaustin/cython_eos/blob/83fb7cf22428d4e3a5ae26b085b3b16e652899c5/cython/fastbin.pyx#L7-L14)\n",
      "\n",
      "Some useful cython documentation:\n",
      "\n",
      "[Start here](http://docs.cython.org/index.html)\n",
      "\n",
      "[memory views](http://docs.cython.org/src/userguide/memoryviews.html)\n"
     ]
    },
    {
     "cell_type": "markdown",
     "metadata": {},
     "source": [
      "To build:\n",
      "\n",
      "```\n",
      "~/repos/cython_eos phil@rail% cd cython\n",
      "~/repos/cython_eos/cython phil@rail% python setup.py build_ext --inplace\n",
      "```"
     ]
    },
    {
     "cell_type": "markdown",
     "metadata": {},
     "source": [
      "To test:  run [satellite_plot.py](https://github.com/phaustin/cython_eos/blob/83fb7cf22428d4e3a5ae26b085b3b16e652899c5/satellite_plot.py) from the command line:\n",
      "\n",
      "```\n",
      "~/repos/cython_eos phil@rail% python satellite_plot.py\n",
      "slow elapsed time = 15.10030\n",
      "fast elapsed time = 16.45047\n",
      "speedup =      0.9\n",
      "```\n",
      "\n",
      "Slower?!?!\n",
      "\n",
      "To figure out why, use cython -a\n",
      "\n",
      "```\n",
      "~/repos/cython_eos/cython phil@rail% cython -a fastbin.pyx\n",
      "~/repos/cython_eos/cython phil@rail% firefox fastbin.html\n",
      "```\n",
      "\n",
      "Any lines highlighted in yellow are still calling out to Python instead of C\n",
      "Problem is in the call to hist_latlon, which doesn't make use of Cython.\n",
      "\n",
      "Confirm by starting ipython in command line mode and profiling with -p\n",
      "\n",
      "```\n",
      "~/repos/cython_eos phil@rail% ipython --matplotlib=qt4\n",
      "Python 2.7.8 |Continuum Analytics, Inc.| (default, Aug 21 2014, 15:21:46) \n",
      "Type \"copyright\", \"credits\" or \"license\" for more information.\n",
      "\n",
      "IPython 2.3.0 -- An enhanced Interactive Python.\n",
      "Anaconda is brought to you by Continuum Analytics.\n",
      "Please check out: http://continuum.io/thanks and https://binstar.org\n",
      "?         -> Introduction and overview of IPython's features.\n",
      "%quickref -> Quick reference.\n",
      "help      -> Python's own help system.\n",
      "object?   -> Details about 'object', use 'object??' for extra details.\n",
      "loaded module 01\n",
      "\n",
      "In [1]: run -p satellite_plot.py\n",
      "```\n"
     ]
    },
    {
     "cell_type": "markdown",
     "metadata": {},
     "source": [
      "### Calling legacy code using cython"
     ]
    },
    {
     "cell_type": "markdown",
     "metadata": {},
     "source": [
      "The other reason to use cython is to be able to call C++, C and Fortran routines.\n",
      "For an example, see: [my bitmask code](https://github.com/phaustin/cython_eos/tree/a2ec09526b554711b27f52093f8e295ebcc026c9/cython/bitmask)  which decodes the\n",
      "[MODIS cloud mask](http://www.google.ca/url?sa=t&rct=j&q=&esrc=s&source=web&cd=1&cad=rja&uact=8&ved=0CCQQFjAA&url=http%3A%2F%2Fmodis-atmos.gsfc.nasa.gov%2F_docs%2FCMUSERSGUIDE.pdf&ei=WNuAVNGvFIbDiALJ-YGQDQ&usg=AFQjCNE8_KIwii9J0jJPXygSxQ2cNujQTQ&sig2=nwjBt19IXE9W_B1bYr6Iyw)"
     ]
    },
    {
     "cell_type": "code",
     "collapsed": false,
     "input": [],
     "language": "python",
     "metadata": {},
     "outputs": [],
     "prompt_number": ""
    }
   ],
   "metadata": {}
  }
 ]
}