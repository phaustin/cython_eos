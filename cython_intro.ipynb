{
 "metadata": {
  "name": "",
  "signature": "sha256:2f9fb01cfb7e8d8775d55141d068fefe479a85e71e3d9fd0f07b63ac946e64e0"
 },
 "nbformat": 3,
 "nbformat_minor": 0,
 "worksheets": [
  {
   "cells": [
    {
     "cell_type": "markdown",
     "metadata": {},
     "source": [
      "## Introduction"
     ]
    },
    {
     "cell_type": "markdown",
     "metadata": {},
     "source": [
      "### Why use cython?\n",
      "\n",
      "1) Your code is running slow enough that it's becoming an issue in your workflow.  You\n",
      "[profile it](http://scipy-lectures.github.io/advanced/optimizing/#timeit) and see that\n",
      "there are [bottlenecks](https://github.com/kwgoodman/bottleneck) that could be reduced\n",
      "if they were rewritten in a statically typed language.\n",
      "\n",
      "2) You need to call functions written in another language that exposes a C or C++ inteface.\n",
      "Example: access to individual bits using [bitset](http://www.cplusplus.com/reference/bitset/bitset).\n",
      "If the language is fortran, see [fortran90.org](http://www.fortran90.org/src/best-practices.html#interfacing-with-python)"
     ]
    },
    {
     "cell_type": "markdown",
     "metadata": {},
     "source": [
      "### Why avoid cython?\n",
      "\n",
      "Leaving the comfort of python for compiled languages means learning and maintaining a second codebase, hassling with\n",
      "[build systems](http://www.cmake.org/cmake-tutorial/), compilers, etc.\n",
      "\n",
      "Distributing your code to others means learning about [conda recipes](https://github.com/conda/conda-recip),\n",
      "[python packaging](https://packaging.python.org/en/latest/) etc.\n"
     ]
    },
    {
     "cell_type": "markdown",
     "metadata": {},
     "source": [
      "### Cython alternatives"
     ]
    },
    {
     "cell_type": "markdown",
     "metadata": {},
     "source": [
      "**For speed:**\n",
      "\n",
      "  1) [numba](https://jakevdp.github.io/blog/2013/06/15/numba-vs-cython-take-2/) \n",
      "\n",
      "  2) [julia](http://tullo.ch/articles/python-vs-julia/) with [pyjulia](https://github.com/JuliaLang/pyjulia)\n",
      "\n",
      "**For accessing C functions:**\n",
      " \n",
      "   [ctypes](https://scipy-lectures.github.io/advanced/interfacing_with_c/interfacing_with_c.html)\n",
      "\n"
     ]
    },
    {
     "cell_type": "markdown",
     "metadata": {},
     "source": [
      "## This talk"
     ]
    },
    {
     "cell_type": "markdown",
     "metadata": {},
     "source": [
      "Take a common task:  binning a 2D histogram and see if we can speed it up.\n",
      "\n",
      "To get the source:  \n",
      "\n",
      "```\n",
      "git clone https://github.com/phaustin/cython_eos.git\n",
      "```"
     ]
    },
    {
     "cell_type": "markdown",
     "metadata": {},
     "source": [
      "To get the data:  download from \n",
      "http://clouds.eos.ubc.ca/~phil/Downloads/a301/A2006303_subset.h5\n",
      "or do use :"
     ]
    },
    {
     "cell_type": "code",
     "collapsed": false,
     "input": [
      "import satellite_plot\n",
      "reload(satellite_plot)"
     ],
     "language": "python",
     "metadata": {},
     "outputs": [
      {
       "metadata": {},
       "output_type": "pyout",
       "prompt_number": 10,
       "text": [
        "<module 'satellite_plot' from 'satellite_plot.py'>"
       ]
      }
     ],
     "prompt_number": 10
    },
    {
     "cell_type": "code",
     "collapsed": false,
     "input": [
      "import requests\n",
      "from satellite_plot import fetchurl\n",
      "get_data=True\n",
      "fileurl='http://clouds.eos.ubc.ca/~phil/Downloads/a301/A2006303_subset.h5'\n",
      "if get_data:\n",
      "    fetchurl(fileurl,'data.h5')\n"
     ],
     "language": "python",
     "metadata": {},
     "outputs": [
      {
       "output_type": "stream",
       "stream": "stdout",
       "text": [
        "downloaded 10 Mbytes\n",
        "downloaded 20 Mbytes"
       ]
      },
      {
       "output_type": "stream",
       "stream": "stdout",
       "text": [
        "\n",
        "downloaded 30 Mbytes"
       ]
      },
      {
       "output_type": "stream",
       "stream": "stdout",
       "text": [
        "\n",
        "downloaded 40 Mbytes"
       ]
      },
      {
       "output_type": "stream",
       "stream": "stdout",
       "text": [
        "\n"
       ]
      }
     ],
     "prompt_number": 11
    },
    {
     "cell_type": "code",
     "collapsed": false,
     "input": [],
     "language": "python",
     "metadata": {},
     "outputs": []
    }
   ],
   "metadata": {}
  }
 ]
}